{
 "cells": [
  {
   "cell_type": "code",
   "execution_count": 22,
   "metadata": {},
   "outputs": [],
   "source": [
    "class Robot:\n",
    "    def __init__(self,x,y):\n",
    "        self.x=x\n",
    "        self.y=y\n",
    "    \n",
    "    def forward(self):\n",
    "        self.x=self.x+1\n",
    "        print(\"moving forward, new position:\")\n",
    "        self.where()\n",
    "        \n",
    "    def where(self):\n",
    "        print(\"x={} y={}\".format(self.x,self.y))\n",
    "        \n",
    "class Tool:\n",
    "    def __init__(self,name):\n",
    "        self.name=name\n",
    "    def use(self):\n",
    "        print (\"using \"+self.name)\n",
    "        \n",
    "class ToolRobot(Robot):\n",
    "    def __init__(self,x,y,tool):\n",
    "        super().__init__(x,y)\n",
    "        self.tool = tool\n",
    "    def use_tool(self):\n",
    "        self.tool.use()"
   ]
  },
  {
   "cell_type": "code",
   "execution_count": null,
   "metadata": {},
   "outputs": [],
   "source": []
  },
  {
   "cell_type": "code",
   "execution_count": 27,
   "metadata": {},
   "outputs": [
    {
     "name": "stdout",
     "output_type": "stream",
     "text": [
      "using hammer\n",
      "using wranch\n"
     ]
    }
   ],
   "source": [
    "tools = [Tool(\"hammer\"),Tool(\"wranch\")]\n",
    "robots=[]\n",
    "for t in tools:\n",
    "    tr = ToolRobot(6,7,t)\n",
    "    robots.append(tr)\n",
    "    tr.use_tool()"
   ]
  },
  {
   "cell_type": "code",
   "execution_count": 31,
   "metadata": {},
   "outputs": [
    {
     "name": "stdout",
     "output_type": "stream",
     "text": [
      "x=6 y=7\n",
      "x=6 y=7\n",
      "moving forward, new position:\n",
      "x=7 y=7\n",
      "x=7 y=7\n",
      "x=6 y=7\n"
     ]
    }
   ],
   "source": [
    "robots[0].where()\n",
    "robots[1].where()\n",
    "robots[0].forward()\n",
    "robots[0].where()\n",
    "robots[1].where()\n"
   ]
  },
  {
   "cell_type": "code",
   "execution_count": 3,
   "metadata": {},
   "outputs": [],
   "source": [
    "r1 = Robot(1,2)\n",
    "r2 = Robot(3,4)"
   ]
  },
  {
   "cell_type": "code",
   "execution_count": 5,
   "metadata": {},
   "outputs": [
    {
     "name": "stdout",
     "output_type": "stream",
     "text": [
      "x=3 y=4\n"
     ]
    }
   ],
   "source": [
    "r2.where()"
   ]
  },
  {
   "cell_type": "code",
   "execution_count": 8,
   "metadata": {},
   "outputs": [
    {
     "name": "stdout",
     "output_type": "stream",
     "text": [
      "x=3 y=2\n",
      "moving forward, new position:\n",
      "x=4 y=2\n"
     ]
    }
   ],
   "source": [
    "r1.where()\n",
    "r1.forward()"
   ]
  },
  {
   "cell_type": "code",
   "execution_count": 9,
   "metadata": {},
   "outputs": [
    {
     "name": "stdout",
     "output_type": "stream",
     "text": [
      "x=3 y=4\n",
      "moving forward, new position:\n",
      "x=4 y=4\n"
     ]
    }
   ],
   "source": [
    "r2.where()\n",
    "r2.forward()"
   ]
  },
  {
   "cell_type": "code",
   "execution_count": null,
   "metadata": {},
   "outputs": [],
   "source": []
  }
 ],
 "metadata": {
  "kernelspec": {
   "display_name": "Python 3",
   "language": "python",
   "name": "python3"
  },
  "language_info": {
   "codemirror_mode": {
    "name": "ipython",
    "version": 3
   },
   "file_extension": ".py",
   "mimetype": "text/x-python",
   "name": "python",
   "nbconvert_exporter": "python",
   "pygments_lexer": "ipython3",
   "version": "3.8.5"
  }
 },
 "nbformat": 4,
 "nbformat_minor": 4
}
